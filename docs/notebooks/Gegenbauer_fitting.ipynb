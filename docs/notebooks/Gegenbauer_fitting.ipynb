{
 "cells": [
  {
   "cell_type": "markdown",
   "id": "bb869c88-ef30-45d5-9a2e-9390567752b4",
   "metadata": {},
   "source": [
    "# Fit data-set using Gegenbauer Kernel"
   ]
  },
  {
   "cell_type": "code",
   "execution_count": 21,
   "id": "97d70d86-8249-492d-8526-54bbdde9bedd",
   "metadata": {},
   "outputs": [],
   "source": [
    "import orsvm\n",
    "import pandas as pd\n",
    "import numpy as np"
   ]
  },
  {
   "cell_type": "markdown",
   "id": "6c3209e4-b26d-47e6-82f7-6f17a2d74da7",
   "metadata": {},
   "source": [
    "## Load data-set"
   ]
  },
  {
   "cell_type": "code",
   "execution_count": 22,
   "id": "fdce3d48-c2a3-4d1b-8add-85d3134f86c9",
   "metadata": {},
   "outputs": [],
   "source": [
    "df = pd.read_csv(r'D:\\Dev\\Orthogonal_Polynomials\\Datasets\\monks\\1_monks.train',\n",
    "                names=['label','col1','col2','col3',\n",
    "                        'col4','col5','col6'],index_col=False)\n",
    "\n",
    "df.loc[df.label==0, ['label']] = -1    # map \"0\" to \"-1\"\n",
    "y_train=df['label'].to_numpy()         # convert y_train to numpy array\n",
    "df.drop('label', axis=1, inplace=True) # drop the class label\n",
    "X_train=df.to_numpy()                  # convert x_train to numpy array\n",
    "\n",
    "\n",
    "# load test-set\n",
    "df = pd.read_csv(r'D:\\Dev\\Orthogonal_Polynomials\\Datasets\\monks\\1_monks.test',\n",
    "                    names=['label','col1','col2','col3',\n",
    "                            'col4','col5','col6'],index_col=False)\n",
    "df.loc[df.label==0, ['label']] = -1\n",
    "y_test=df['label'].to_numpy()\n",
    "df.drop('label', axis=1, inplace=True)\n",
    "X_test=df.to_numpy()"
   ]
  },
  {
   "cell_type": "markdown",
   "id": "3f56b9ad-4638-45ae-b6b9-fa06397a6d01",
   "metadata": {},
   "source": [
    "## Initiate kernel"
   ]
  },
  {
   "cell_type": "code",
   "execution_count": 23,
   "id": "288fd499-86ea-4522-9fc3-4e523cb30ab9",
   "metadata": {},
   "outputs": [],
   "source": [
    "# Create an object from Model class of ORSVM\n",
    "obj=orsvm.Model(kernel=\"Gegenbauer\",order=4,param1=0.5,T=0.3)  \n"
   ]
  },
  {
   "cell_type": "markdown",
   "id": "bd6a9696-dcdd-4988-a896-23d975610396",
   "metadata": {},
   "source": [
    "## Fit the model and Capture paramaters"
   ]
  },
  {
   "cell_type": "code",
   "execution_count": 24,
   "id": "b88fa0b9-bbe1-461e-9cfc-4089d3f15bbd",
   "metadata": {},
   "outputs": [
    {
     "name": "stdout",
     "output_type": "stream",
     "text": [
      "********** 20/09/2021 15:02:03 **********\n",
      "** OSVM kernel: Gegenbauer\n",
      "** Order: 4\n",
      "** Fractional mode, transition : 0.3\n",
      "** Avegage support vector determiner selected!\n",
      "** sv threshold: 10^ -7\n"
     ]
    }
   ],
   "source": [
    "# fit the model and Capture parameters\n",
    "Weights, SupportVectors, Bias, KernelInstance = obj.ModelFit(X_train,y_train)"
   ]
  },
  {
   "cell_type": "markdown",
   "id": "a46823c3-87ff-4b2a-b25a-227a1d5dfc0b",
   "metadata": {},
   "source": [
    "## Inspect model's accuracy"
   ]
  },
  {
   "cell_type": "code",
   "execution_count": 20,
   "id": "a633cc21-c12e-41db-9282-98706168cd63",
   "metadata": {},
   "outputs": [
    {
     "name": "stdout",
     "output_type": "stream",
     "text": [
      "** Accuracy score: 0.9467592592592593\n",
      "** Classification Report:\n",
      "               precision    recall  f1-score   support\n",
      "\n",
      "          -1       0.95      0.94      0.95       216\n",
      "           1       0.94      0.95      0.95       216\n",
      "\n",
      "    accuracy                           0.95       432\n",
      "   macro avg       0.95      0.95      0.95       432\n",
      "weighted avg       0.95      0.95      0.95       432\n",
      "\n",
      "** Confusion Matrix:\n",
      " [[203  13]\n",
      " [ 10 206]]\n"
     ]
    },
    {
     "data": {
      "text/plain": [
       "0.9467592592592593"
      ]
     },
     "execution_count": 20,
     "metadata": {},
     "output_type": "execute_result"
    }
   ],
   "source": [
    "# Model Prediction function\n",
    "obj.ModelPredict(X_test,y_test,Bias,KernelInstance)"
   ]
  }
 ],
 "metadata": {
  "kernelspec": {
   "display_name": "Python 3 (ipykernel)",
   "language": "python",
   "name": "python3"
  },
  "language_info": {
   "codemirror_mode": {
    "name": "ipython",
    "version": 3
   },
   "file_extension": ".py",
   "mimetype": "text/x-python",
   "name": "python",
   "nbconvert_exporter": "python",
   "pygments_lexer": "ipython3",
   "version": "3.9.7"
  }
 },
 "nbformat": 4,
 "nbformat_minor": 5
}
