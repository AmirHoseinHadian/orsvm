{
 "cells": [
  {
   "cell_type": "markdown",
   "id": "3c97de4a-b606-4b9a-ab3c-1581141c89a8",
   "metadata": {},
   "source": [
    "# Fit data-set using Jacobi Kernel"
   ]
  },
  {
   "cell_type": "code",
   "execution_count": 19,
   "id": "93389e24-88bd-49f5-8fac-ee687fb71a50",
   "metadata": {},
   "outputs": [],
   "source": [
    "import orsvm\n",
    "import pandas as pd\n",
    "import numpy as np"
   ]
  },
  {
   "cell_type": "markdown",
   "id": "05ebbb52-98a8-4086-aafe-975d3775b8b2",
   "metadata": {},
   "source": [
    "## Load data-set"
   ]
  },
  {
   "cell_type": "code",
   "execution_count": 20,
   "id": "ca925347-4e3f-4c0b-a477-d02acade68dc",
   "metadata": {},
   "outputs": [],
   "source": [
    "df = pd.read_csv(r'D:\\Dev\\Orthogonal_Polynomials\\Datasets\\monks\\1_monks.train',\n",
    "                names=['label','col1','col2','col3',\n",
    "                        'col4','col5','col6'],index_col=False)\n",
    "\n",
    "df.loc[df.label==0, ['label']] = -1    # map \"0\" to \"-1\"\n",
    "y_train=df['label'].to_numpy()         # convert y_train to numpy array\n",
    "df.drop('label', axis=1, inplace=True) # drop the class label\n",
    "X_train=df.to_numpy()                  # convert x_train to numpy array\n",
    "\n",
    "\n",
    "# load test-set\n",
    "df = pd.read_csv(r'D:\\Dev\\Orthogonal_Polynomials\\Datasets\\monks\\1_monks.test',\n",
    "                    names=['label','col1','col2','col3',\n",
    "                            'col4','col5','col6'],index_col=False)\n",
    "df.loc[df.label==0, ['label']] = -1\n",
    "y_test=df['label'].to_numpy()\n",
    "df.drop('label', axis=1, inplace=True)\n",
    "X_test=df.to_numpy()\n"
   ]
  },
  {
   "cell_type": "markdown",
   "id": "6d2327e3-981f-4876-bd8e-4f59cabd53b9",
   "metadata": {},
   "source": [
    "## Initiate kernel"
   ]
  },
  {
   "cell_type": "code",
   "execution_count": 21,
   "id": "860c7327-28ae-4fa3-9cfe-e3097f85f906",
   "metadata": {},
   "outputs": [],
   "source": [
    "# Create an object from Model class of ORSVM\n",
    "obj=orsvm.Model(kernel=\"Jacobi\",order=3,param1=-0.8,param2=0.2,T=0.8,noise=0.1) "
   ]
  },
  {
   "cell_type": "markdown",
   "id": "9a7bd1cd-637e-47bf-875b-ca7c52c0e696",
   "metadata": {},
   "source": [
    "## Fit the model and Capture paramaters"
   ]
  },
  {
   "cell_type": "code",
   "execution_count": 22,
   "id": "b822e58e-7891-42bb-88e1-8f0992decacf",
   "metadata": {},
   "outputs": [
    {
     "name": "stdout",
     "output_type": "stream",
     "text": [
      "********** 20/09/2021 15:01:44 **********\n",
      "** OSVM kernel: Jacobi\n",
      "** Order: 3\n",
      "** Fractional mode, transition : 0.8\n",
      "** Avegage support vector determiner selected!\n",
      "** sv threshold: 10^ -3\n"
     ]
    }
   ],
   "source": [
    "# fit the model and Capture parameters\n",
    "Weights, SupportVectors, Bias, KernelInstance = obj.ModelFit(X_train,y_train)"
   ]
  },
  {
   "cell_type": "markdown",
   "id": "653e9948-b41b-4fe9-a098-403c9a293f4c",
   "metadata": {},
   "source": [
    "## Inspect model's accuracy"
   ]
  },
  {
   "cell_type": "code",
   "execution_count": 23,
   "id": "0fc8d174-6c40-4129-a4f7-afd844565bb0",
   "metadata": {},
   "outputs": [
    {
     "name": "stdout",
     "output_type": "stream",
     "text": [
      "** Accuracy score: 0.8495370370370371\n",
      "** Classification Report:\n",
      "               precision    recall  f1-score   support\n",
      "\n",
      "          -1       0.83      0.88      0.85       216\n",
      "           1       0.87      0.82      0.84       216\n",
      "\n",
      "    accuracy                           0.85       432\n",
      "   macro avg       0.85      0.85      0.85       432\n",
      "weighted avg       0.85      0.85      0.85       432\n",
      "\n",
      "** Confusion Matrix:\n",
      " [[190  26]\n",
      " [ 39 177]]\n"
     ]
    },
    {
     "data": {
      "text/plain": [
       "0.8495370370370371"
      ]
     },
     "execution_count": 23,
     "metadata": {},
     "output_type": "execute_result"
    }
   ],
   "source": [
    "# Model Prediction function\n",
    "obj.ModelPredict(X_test,y_test,Bias,KernelInstance)"
   ]
  }
 ],
 "metadata": {
  "kernelspec": {
   "display_name": "Python 3 (ipykernel)",
   "language": "python",
   "name": "python3"
  },
  "language_info": {
   "codemirror_mode": {
    "name": "ipython",
    "version": 3
   },
   "file_extension": ".py",
   "mimetype": "text/x-python",
   "name": "python",
   "nbconvert_exporter": "python",
   "pygments_lexer": "ipython3",
   "version": "3.9.7"
  }
 },
 "nbformat": 4,
 "nbformat_minor": 5
}
