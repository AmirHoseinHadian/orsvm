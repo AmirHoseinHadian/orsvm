{
 "cells": [
  {
   "cell_type": "markdown",
   "id": "811854e4-351f-49d8-ba35-ee9a758583ac",
   "metadata": {},
   "source": [
    "# Fit data-set using Legendre Kernel"
   ]
  },
  {
   "cell_type": "code",
   "execution_count": 5,
   "id": "711d6ad7-9688-468a-84aa-14c6a19db4d0",
   "metadata": {},
   "outputs": [],
   "source": [
    "import orsvm\n",
    "import pandas as pd\n",
    "import numpy as np"
   ]
  },
  {
   "cell_type": "markdown",
   "id": "f473b7ac-34de-40a9-8a59-16b0a2df7a96",
   "metadata": {},
   "source": [
    "## Load data-set"
   ]
  },
  {
   "cell_type": "code",
   "execution_count": 2,
   "id": "320c8021-0b79-471f-82bf-b297aa320691",
   "metadata": {},
   "outputs": [
    {
     "name": "stdout",
     "output_type": "stream",
     "text": [
      "********** 20/09/2021 00:23:20 **********\n",
      "** OSVM kernel: Legendre\n",
      "** Order: 4\n",
      "** Fractional mode, transition : 0.3\n",
      "** Avegage support vector determiner selected!\n",
      "** sv threshold: 10^ -6\n"
     ]
    }
   ],
   "source": [
    "df = pd.read_csv(r'D:\\Dev\\Orthogonal_Polynomials\\Datasets\\monks\\1_monks.train',\n",
    "                names=['label','col1','col2','col3',\n",
    "                        'col4','col5','col6'],index_col=False)\n",
    "\n",
    "df.loc[df.label==0, ['label']] = -1    # map \"0\" to \"-1\"\n",
    "y_train=df['label'].to_numpy()         # convert y_train to numpy array\n",
    "df.drop('label', axis=1, inplace=True) # drop the class label\n",
    "X_train=df.to_numpy()                  # convert x_train to numpy array\n",
    "\n",
    "\n",
    "# load test-set\n",
    "df = pd.read_csv(r'D:\\Dev\\Orthogonal_Polynomials\\Datasets\\monks\\1_monks.test',\n",
    "                    names=['label','col1','col2','col3',\n",
    "                            'col4','col5','col6'],index_col=False)\n",
    "df.loc[df.label==0, ['label']] = -1\n",
    "y_test=df['label'].to_numpy()\n",
    "df.drop('label', axis=1, inplace=True)\n",
    "X_test=df.to_numpy()"
   ]
  },
  {
   "cell_type": "markdown",
   "id": "28ba408a-1239-4f54-8c0b-f6c5402eb9a9",
   "metadata": {},
   "source": [
    "## Initiate kernel"
   ]
  },
  {
   "cell_type": "code",
   "execution_count": 6,
   "id": "bd801e18-670d-43f8-a7f3-0878326e1586",
   "metadata": {},
   "outputs": [],
   "source": [
    "# Create an object from Model class of ORSVM\n",
    "obj=orsvm.Model(kernel=\"Legendre\",order=4,T=0.3)  "
   ]
  },
  {
   "cell_type": "markdown",
   "id": "6c4ecc9f-5caf-490d-9d33-7130414be0e9",
   "metadata": {},
   "source": [
    "## Fit the model and Capture paramaters"
   ]
  },
  {
   "cell_type": "code",
   "execution_count": 7,
   "id": "4b550243-2904-4fc7-b2d4-65c237c40c2d",
   "metadata": {},
   "outputs": [
    {
     "name": "stdout",
     "output_type": "stream",
     "text": [
      "********** 20/09/2021 15:03:59 **********\n",
      "** OSVM kernel: Legendre\n",
      "** Order: 4\n",
      "** Fractional mode, transition : 0.3\n",
      "** Avegage support vector determiner selected!\n",
      "** sv threshold: 10^ -6\n"
     ]
    }
   ],
   "source": [
    "# fit the model and Capture parameters\n",
    "Weights, SupportVectors, Bias, KernelInstance = obj.ModelFit(X_train,y_train)"
   ]
  },
  {
   "cell_type": "markdown",
   "id": "be0a8ac6-fdf7-40bf-b74e-51d75f9da7f8",
   "metadata": {},
   "source": [
    "## Inspect model's accuracy"
   ]
  },
  {
   "cell_type": "code",
   "execution_count": 8,
   "id": "f01a8839-d22d-4697-9851-dbbd7cdb5b53",
   "metadata": {},
   "outputs": [
    {
     "name": "stdout",
     "output_type": "stream",
     "text": [
      "** Accuracy score: 0.9328703703703703\n",
      "** Classification Report:\n",
      "               precision    recall  f1-score   support\n",
      "\n",
      "          -1       0.95      0.91      0.93       216\n",
      "           1       0.92      0.95      0.93       216\n",
      "\n",
      "    accuracy                           0.93       432\n",
      "   macro avg       0.93      0.93      0.93       432\n",
      "weighted avg       0.93      0.93      0.93       432\n",
      "\n",
      "** Confusion Matrix:\n",
      " [[197  19]\n",
      " [ 10 206]]\n"
     ]
    },
    {
     "data": {
      "text/plain": [
       "0.9328703703703703"
      ]
     },
     "execution_count": 8,
     "metadata": {},
     "output_type": "execute_result"
    }
   ],
   "source": [
    "# Model Prediction function\n",
    "obj.ModelPredict(X_test,y_test,Bias,KernelInstance)"
   ]
  }
 ],
 "metadata": {
  "kernelspec": {
   "display_name": "Python 3 (ipykernel)",
   "language": "python",
   "name": "python3"
  },
  "language_info": {
   "codemirror_mode": {
    "name": "ipython",
    "version": 3
   },
   "file_extension": ".py",
   "mimetype": "text/x-python",
   "name": "python",
   "nbconvert_exporter": "python",
   "pygments_lexer": "ipython3",
   "version": "3.9.7"
  }
 },
 "nbformat": 4,
 "nbformat_minor": 5
}
