{
 "cells": [
  {
   "cell_type": "markdown",
   "metadata": {},
   "source": [
    "# Fit data-set using Jacobi Kernel"
   ]
  },
  {
   "cell_type": "code",
   "execution_count": 2,
   "metadata": {},
   "outputs": [],
   "source": [
    "import orsvm\n",
    "import pandas as pd\n",
    "import numpy as np"
   ]
  },
  {
   "cell_type": "markdown",
   "metadata": {},
   "source": [
    "## Load data-set"
   ]
  },
  {
   "cell_type": "code",
   "execution_count": 3,
   "metadata": {},
   "outputs": [],
   "source": [
    "# Fitting a model requires the data-set to be prepared, in order to be a binary classification.\n",
    "df = pd.read_csv(r'D:\\IPM\\ORSVM\\DataSets\\DataSets\\Classification\\monks-problems\\monks1_train.csv')\n",
    "\n",
    "\n",
    "y_train=df['label'].to_numpy()         # convert y_train to numpy array\n",
    "df.drop('label', axis=1, inplace=True) # drop the class label\n",
    "X_train=df.to_numpy()                  # convert x_train to numpy array\n",
    "\n",
    "\n",
    "# load test-set\n",
    "df = pd.read_csv(r'D:\\IPM\\ORSVM\\DataSets\\DataSets\\Classification\\monks-problems\\monks1_test.csv')\n",
    "\n",
    "y_test=df['label'].to_numpy()\n",
    "df.drop('label', axis=1, inplace=True)\n",
    "X_test=df.to_numpy()"
   ]
  },
  {
   "cell_type": "markdown",
   "metadata": {},
   "source": [
    "## Initiate kernel"
   ]
  },
  {
   "cell_type": "code",
   "execution_count": null,
   "metadata": {},
   "outputs": [],
   "source": [
    "# Create an object from Model class of ORSVM\n",
    "obj=orsvm.Model(kernel=\"Jacobi\",order=3,KernelParam1=-0.8,KernelParam2=0.2,T=0.8,noise=0.1) "
   ]
  },
  {
   "cell_type": "markdown",
   "metadata": {},
   "source": [
    "## Fit the model and Capture paramaters"
   ]
  },
  {
   "cell_type": "code",
   "execution_count": 5,
   "metadata": {},
   "outputs": [
    {
     "name": "stderr",
     "output_type": "stream",
     "text": [
      "2022-10-22 22:45:00,827:INFO:** ORSVM kernel: jacobi\n",
      "2022-10-22 22:45:00,828:INFO:** Order: 3\n",
      "2022-10-22 22:45:00,829:INFO:** Fractional mode, transition : 0.8\n",
      "2022-10-22 22:45:02,325:INFO:** Average method for support vector determination selected!\n",
      "2022-10-22 22:45:02,326:INFO:** support vector threshold: 10^-3\n",
      "2022-10-22 22:45:02,349:INFO:Kenrel matrix is convex\n",
      "2022-10-22 22:45:02,350:INFO:** solution status: optimal\n"
     ]
    }
   ],
   "source": [
    "# fit the model and Capture parameters\n",
    "Weights, SupportVectors, Bias, KernelInstance = obj.ModelFit(X_train,y_train)"
   ]
  },
  {
   "cell_type": "markdown",
   "metadata": {},
   "source": [
    "## Inspect model's accuracy"
   ]
  },
  {
   "cell_type": "code",
   "execution_count": 6,
   "metadata": {},
   "outputs": [
    {
     "name": "stderr",
     "output_type": "stream",
     "text": [
      "2022-10-22 22:45:27,992:INFO:** Accuracy score: 0.8495370370370371\n",
      "2022-10-22 22:45:27,996:INFO:** Classification Report: \n",
      "               precision    recall  f1-score   support\n",
      "\n",
      "          -1       0.83      0.88      0.85       216\n",
      "           1       0.87      0.82      0.84       216\n",
      "\n",
      "    accuracy                           0.85       432\n",
      "   macro avg       0.85      0.85      0.85       432\n",
      "weighted avg       0.85      0.85      0.85       432\n",
      " \n",
      "2022-10-22 22:45:27,999:INFO:** Confusion Matrix: \n",
      " [[190  26]\n",
      " [ 39 177]]\n"
     ]
    },
    {
     "data": {
      "text/plain": [
       "0.8495370370370371"
      ]
     },
     "execution_count": 6,
     "metadata": {},
     "output_type": "execute_result"
    }
   ],
   "source": [
    "# Model Prediction function\n",
    "obj.ModelPredict(X_test,y_test,Bias,KernelInstance)"
   ]
  }
 ],
 "metadata": {
  "kernelspec": {
   "display_name": "Python 3 (ipykernel)",
   "language": "python",
   "name": "python3"
  },
  "language_info": {
   "codemirror_mode": {
    "name": "ipython",
    "version": 3
   },
   "file_extension": ".py",
   "mimetype": "text/x-python",
   "name": "python",
   "nbconvert_exporter": "python",
   "pygments_lexer": "ipython3",
   "version": "3.9.13"
  }
 },
 "nbformat": 4,
 "nbformat_minor": 4
}
