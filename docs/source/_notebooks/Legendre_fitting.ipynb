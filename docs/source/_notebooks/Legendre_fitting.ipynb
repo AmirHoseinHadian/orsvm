{
 "cells": [
  {
   "cell_type": "markdown",
   "metadata": {},
   "source": [
    "# Fit data-set using Legendre Kernel"
   ]
  },
  {
   "cell_type": "code",
   "execution_count": 2,
   "metadata": {},
   "outputs": [],
   "source": [
    "import orsvm\n",
    "import pandas as pd\n",
    "import numpy as np"
   ]
  },
  {
   "cell_type": "markdown",
   "metadata": {},
   "source": [
    "## Load data-set"
   ]
  },
  {
   "cell_type": "code",
   "execution_count": 3,
   "metadata": {},
   "outputs": [],
   "source": [
    "# Fitting a model requires the data-set to be prepared, in order to be a binary classification.\n",
    "df = pd.read_csv(r'D:\\IPM\\ORSVM\\DataSets\\DataSets\\Classification\\monks-problems\\monks1_train.csv')\n",
    "\n",
    "\n",
    "y_train=df['label'].to_numpy()         # convert y_train to numpy array\n",
    "df.drop('label', axis=1, inplace=True) # drop the class label\n",
    "X_train=df.to_numpy()                  # convert x_train to numpy array\n",
    "\n",
    "\n",
    "# load test-set\n",
    "df = pd.read_csv(r'D:\\IPM\\ORSVM\\DataSets\\DataSets\\Classification\\monks-problems\\monks1_test.csv')\n",
    "\n",
    "y_test=df['label'].to_numpy()\n",
    "df.drop('label', axis=1, inplace=True)\n",
    "X_test=df.to_numpy()"
   ]
  },
  {
   "cell_type": "markdown",
   "metadata": {},
   "source": [
    "## Initiate kernel"
   ]
  },
  {
   "cell_type": "code",
   "execution_count": 4,
   "metadata": {},
   "outputs": [],
   "source": [
    "# Create an object from Model class of ORSVM\n",
    "obj=orsvm.Model(kernel=\"Legendre\",order=4,T=0.3)  "
   ]
  },
  {
   "cell_type": "markdown",
   "metadata": {},
   "source": [
    "## Fit the model and Capture paramaters"
   ]
  },
  {
   "cell_type": "code",
   "execution_count": 5,
   "metadata": {},
   "outputs": [
    {
     "name": "stderr",
     "output_type": "stream",
     "text": [
      "2022-10-22 22:47:45,130:INFO:** ORSVM kernel: legendre\n",
      "2022-10-22 22:47:45,132:INFO:** Order: 4\n",
      "2022-10-22 22:47:45,133:INFO:** Fractional mode, transition : 0.3\n",
      "2022-10-22 22:47:45,709:INFO:** Average method for support vector determination selected!\n",
      "2022-10-22 22:47:45,710:INFO:** support vector threshold: 10^-6\n",
      "2022-10-22 22:47:45,730:INFO:Kenrel matrix is convex\n",
      "2022-10-22 22:47:45,731:INFO:** solution status: optimal\n"
     ]
    }
   ],
   "source": [
    "# fit the model and Capture parameters\n",
    "Weights, SupportVectors, Bias, KernelInstance = obj.ModelFit(X_train,y_train)"
   ]
  },
  {
   "cell_type": "markdown",
   "metadata": {},
   "source": [
    "## Inspect model's accuracy"
   ]
  },
  {
   "cell_type": "code",
   "execution_count": 6,
   "metadata": {},
   "outputs": [
    {
     "name": "stderr",
     "output_type": "stream",
     "text": [
      "2022-10-22 22:48:03,590:INFO:** Accuracy score: 0.9328703703703703\n",
      "2022-10-22 22:48:03,594:INFO:** Classification Report: \n",
      "               precision    recall  f1-score   support\n",
      "\n",
      "          -1       0.95      0.91      0.93       216\n",
      "           1       0.92      0.95      0.93       216\n",
      "\n",
      "    accuracy                           0.93       432\n",
      "   macro avg       0.93      0.93      0.93       432\n",
      "weighted avg       0.93      0.93      0.93       432\n",
      " \n",
      "2022-10-22 22:48:03,597:INFO:** Confusion Matrix: \n",
      " [[197  19]\n",
      " [ 10 206]]\n"
     ]
    },
    {
     "data": {
      "text/plain": [
       "0.9328703703703703"
      ]
     },
     "execution_count": 6,
     "metadata": {},
     "output_type": "execute_result"
    }
   ],
   "source": [
    "# Model Prediction function\n",
    "obj.ModelPredict(X_test,y_test,Bias,KernelInstance)"
   ]
  }
 ],
 "metadata": {
  "kernelspec": {
   "display_name": "Python 3 (ipykernel)",
   "language": "python",
   "name": "python3"
  },
  "language_info": {
   "codemirror_mode": {
    "name": "ipython",
    "version": 3
   },
   "file_extension": ".py",
   "mimetype": "text/x-python",
   "name": "python",
   "nbconvert_exporter": "python",
   "pygments_lexer": "ipython3",
   "version": "3.9.13"
  }
 },
 "nbformat": 4,
 "nbformat_minor": 4
}
